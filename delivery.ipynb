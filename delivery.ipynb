import pandas as pd
from sklearn.model_selection import train_test_split
from sklearn.ensemble import RandomForestRegressor
from sklearn.metrics import mean_absolute_error
from datetime import datetime

# Load the dataset
data = pd.read_csv('delivery1.csv')

# Feature engineering: Calculate delivery duration in minutes
data['Start_Time'] = pd.to_datetime(data['Start_Time'])
data['End_Time'] = pd.to_datetime(data['End_Time'])
data['Delivery_Duration'] = (data['End_Time'] - data['Start_Time']).dt.total_seconds() / 60

# Prepare features (X) and target (y)
features = ['Distance_km', 'Delivery_Type','weather_condition']
X= data.drop(columns=['Start_Time', 'End_Time', 'Delivery_Duration'])
y = data['Delivery_Duration']

# Split data into training and testing sets
X_train, X_test, y_train, y_test = train_test_split(X, y, test_size=0.2, random_state=42)

# Train a Random Forest regressor model
model = RandomForestRegressor(n_estimators=100, random_state=42)
model.fit(X_train, y_train)

# Evaluate the model
y_pred = model.predict(X_test)
mae = mean_absolute_error(y_test, y_pred)
print("Mean Absolute Error:", mae)

# Predict delivery time for a new real-time tracking update
def predict_delivery_time(distance_km, delivery_type, weather_conditions):
    input_data = {
        'Distance_km': [distance_km],
        'Delivery_Type_' + delivery_type: [1],
        'Weather_Conditions_' + weather_conditions: [1]
    }
    input_df = pd.DataFrame.from_dict(input_data)
    input_df = input_df.reindex(columns=X.columns, fill_value=0)
    return model.predict(input_df)[0]
    

# Example prediction
predicted_duration = predict_delivery_time(22, 'Standard', 'Rainy')


# Assuming the current date and time is known
current_date = datetime.now()

# Convert predicted delivery duration from minutes to days
predicted_delivery_days = predicted_duration / 1440


# Convert predicted delivery duration from minutes to days
predicted_delivery_days = predicted_duration / 1440


print("Predicted delivery duration: {:.2f} days".format(predicted_delivery_days))
